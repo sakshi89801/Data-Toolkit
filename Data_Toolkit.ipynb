{
  "nbformat": 4,
  "nbformat_minor": 0,
  "metadata": {
    "colab": {
      "provenance": []
    },
    "kernelspec": {
      "name": "python3",
      "display_name": "Python 3"
    },
    "language_info": {
      "name": "python"
    }
  },
  "cells": [
    {
      "cell_type": "markdown",
      "source": [
        "1. What is NumPy, and why is it widely used in Python?\n",
        "\n",
        "NumPy stands for Numerical Python and is a fundamental package for numerical and scientific computing in Python. It introduces powerful multi-dimensional arrays ndarray and tools for performing vectorized operations efficiently.\n",
        "\n",
        "  Key reasons why NumPy is widely used:\n",
        "\n",
        "Performance: NumPy uses optimized C code under the hood, making it significantly faster than standard Python lists.\n",
        "\n",
        "Array broadcasting: Enables arithmetic operations on arrays of different shapes.\n",
        "\n",
        "Convenient functions: Mathematical, statistical, linear algebra, FFT, and random number capabilities.\n",
        "\n",
        "Memory efficiency: Arrays consume less memory than Python lists.\n",
        "\n",
        "Foundation for other libraries: Pandas, SciPy, TensorFlow, and Scikit-learn rely on NumPy."
      ],
      "metadata": {
        "id": "sRFcaZT2lGRm"
      }
    },
    {
      "cell_type": "markdown",
      "source": [
        "2.  How does broadcasting work in NumPy?\n",
        "\n",
        "Broadcasting allows NumPy to perform arithmetic operations between arrays of different shapes. It expands the smaller array across the larger one without copying data, enabling vectorized computation.\n",
        "\n",
        "Example:\n",
        "a = np.array([[1], [2], [3]])   \n",
        "b = np.array([10, 20, 30])      \n",
        "result = a + b  "
      ],
      "metadata": {
        "id": "zR5XIvlvMFG-"
      }
    },
    {
      "cell_type": "markdown",
      "source": [
        "3.  A What is a Pandas DataFrame?\n",
        "\n",
        "A DataFrame is a 2-dimensional labeled data structure in Pandas, similar to a spreadsheet or SQL table.\n",
        "\n",
        "Features:\n",
        "\n",
        "Labeled axes (rows and columns)\n",
        "\n",
        "Columns can hold different types: int, float, string, etc.\n",
        "\n",
        "Powerful data alignment and missing data handling\n",
        "\n",
        "Example:\n",
        "import pandas as pd\n",
        "data = {'Name': ['A', 'B'], 'Marks': [90, 85]}\n",
        "df = pd.DataFrame(data)\n",
        "print(df)"
      ],
      "metadata": {
        "id": "tDvV5wHGMYPT"
      }
    },
    {
      "cell_type": "markdown",
      "source": [
        "4. Explain the use of the groupby() method in Pandas\n",
        "\n",
        "The groupby() function in Pandas is used for grouping data and performing aggregate operations like sum, mean, etc.\n",
        "\n",
        "Steps:\n",
        "\n",
        "Split the data into groups.\n",
        "\n",
        "Apply a function to each group.\n",
        "\n",
        "Combine the results into a DataFrame.\n",
        "\n",
        "Example:\n",
        "import pandas as pd\n",
        "data = {'Dept': ['HR', 'IT', 'HR', 'IT'], 'Salary': [30000, 50000, 35000, 55000]}\n",
        "df = pd.DataFrame(data)\n",
        "print(df.groupby('Dept')['Salary'].mean())\n"
      ],
      "metadata": {
        "id": "R5-JFc1vMvdF"
      }
    },
    {
      "cell_type": "markdown",
      "source": [
        "5.  Why is Seaborn preferred for statistical visualizations?\n",
        "\n",
        "Seaborn is a Python data visualization library built on top of Matplotlib, specially designed for statistical plots.\n",
        "\n",
        "Why it's preferred:\n",
        "\n",
        "Built-in support for statistical functions like regression lines.\n",
        "\n",
        "Easier syntax than Matplotlib.\n",
        "\n",
        "Beautiful default styles.\n",
        "\n",
        "Works seamlessly with Pandas DataFrames.\n",
        "\n",
        "Example:\n",
        "import seaborn as sns\n",
        "sns.boxplot(x='day', y='total_bill', data=sns.load_dataset('tips'))"
      ],
      "metadata": {
        "id": "_PnX90ctM5cA"
      }
    },
    {
      "cell_type": "markdown",
      "source": [
        "6. A What are the differences between NumPy arrays and Python lists"
      ],
      "metadata": {
        "id": "dHjAf89IOjwy"
      }
    },
    {
      "cell_type": "markdown",
      "source": [
        "7. What is a heatmap, and when should it be used ?\n",
        "\n",
        "A heatmap is a data visualization technique that shows the magnitude of a phenomenon using color in two dimensions.\n",
        "\n",
        "Used for:\n",
        "\n",
        "Visualizing correlation matrices\n",
        "\n",
        "Identifying patterns, trends, and outliers\n",
        "\n",
        "Displaying frequency tables\n",
        "\n",
        "Example (Seaborn):\n",
        "\n",
        "import seaborn as sns\n",
        "import pandas as pd\n",
        "df = sns.load_dataset(\"iris\")\n",
        "sns.heatmap(df.corr(), annot=True, cmap='coolwarm')"
      ],
      "metadata": {
        "id": "VVTtC6DPOzDX"
      }
    },
    {
      "cell_type": "markdown",
      "source": [
        "8.  What does the term “vectorized operation” mean in NumPy ?\n",
        "\n",
        "A vectorized operation means applying operations to entire arrays without using explicit loops.\n",
        "\n",
        "Benefits:\n",
        "\n",
        "Faster execution (uses low-level C code)\n",
        "\n",
        "Cleaner, more readable code\n",
        "\n",
        "Example:\n",
        "import numpy as np\n",
        "arr = np.array([1, 2, 3])\n",
        "print(arr ** 2)  # Output: [1 4 9]"
      ],
      "metadata": {
        "id": "rKoUa0iJPMAu"
      }
    },
    {
      "cell_type": "markdown",
      "source": [
        "9. How does Matplotlib differ from Plotly\n",
        "\n",
        "Matplotlib creates static plots (like images), ideal for reports, papers, and print.\n",
        "\n",
        "Plotly creates interactive plots (with zoom, hover, pan), ideal for dashboards and web apps.\n",
        "\n",
        "Key Differences:\n",
        "\n",
        "Matplotlib is best for detailed, static charts.\n",
        "\n",
        "Plotly is best for interactive, browser-friendly visuals.\n",
        "\n",
        "Matplotlib needs more code for customization.\n",
        "\n",
        "Plotly looks modern and is easier for beginners.\n",
        "\n",
        "Plotly integrates easily with Dash for web dashboards."
      ],
      "metadata": {
        "id": "CwisxYIWPZWk"
      }
    },
    {
      "cell_type": "markdown",
      "source": [
        "10. What is the significance of hierarchical indexing in Pandas ?\n",
        "\n",
        "Hierarchical indexing (MultiIndex) allows you to assign multiple levels of indexes to rows or columns in a DataFrame. It helps represent and analyze complex, multi-dimensional data within the standard 2D Pandas structure.\n",
        "\n",
        "Key Advantages:\n",
        "\n",
        "Organizes data clearly by grouping it into levels (e.g., Region → City, Year → Month).\n",
        "\n",
        "Simplifies data selection using .loc[], .xs(), and slicing at different index levels.\n",
        "\n",
        "Supports reshaping with stack(), unstack(), and pivot_table(), allowing easy transformation between wide and long formats.\n",
        "\n",
        "Improves readability and analysis for time series, grouped statistics, and large datasets.\n",
        "\n"
      ],
      "metadata": {
        "id": "2JuhDFVfPjdV"
      }
    },
    {
      "cell_type": "markdown",
      "source": [
        "11. What is the role of Seaborn’s pairplot() function?\n",
        "\n",
        "The pairplot() function in Seaborn is used to create a matrix of scatter plots between all pairs of numerical columns in a dataset, along with histograms or KDE plots on the diagonals.\n",
        "\n",
        "Purpose:\n",
        "\n",
        "Helps in visualizing relationships and correlations between multiple variables.\n",
        "\n",
        "Useful in exploratory data analysis (EDA).\n",
        "\n",
        "Can color code (hue) by category for better insights.\n",
        "\n",
        "Example:\n",
        "import seaborn as sns\n",
        "df = sns.load_dataset('iris')\n",
        "sns.pairplot(df, hue='species')"
      ],
      "metadata": {
        "id": "Yxn5nCoIP7ZA"
      }
    },
    {
      "cell_type": "markdown",
      "source": [
        "12.  What is the purpose of the describe() function in Pandas ?\n",
        "\n",
        "The describe() function in Pandas provides summary statistics of numerical columns in a DataFrame.\n",
        "\n",
        "Output includes:\n",
        "\n",
        "Count, mean, standard deviation\n",
        "\n",
        "Min, max, and quartiles (25%, 50%, 75%)\n",
        "\n",
        "Usage:\n",
        "\n",
        "Quickly understand the distribution of data.\n",
        "\n",
        "Identify anomalies or outliers.\n",
        "\n",
        "Example:\n",
        "import pandas as pd\n",
        "df = pd.read_csv(\"data.csv\")\n",
        "print(df.describe())"
      ],
      "metadata": {
        "id": "Kxwc_AwMQE3E"
      }
    },
    {
      "cell_type": "markdown",
      "source": [
        "13. A Why is handling missing data important in Pandas?\n",
        "\n",
        "Missing data can lead to:\n",
        "Incorrect analysis\n",
        "\n",
        "Inaccurate model training\n",
        "\n",
        "Errors in computations\n",
        "\n",
        "Pandas provides:\n",
        "\n",
        "isnull(), notnull() to detect\n",
        "\n",
        "fillna() to replace\n",
        "\n",
        "dropna() to remove\n",
        "\n",
        "Example:\n",
        "df = pd.DataFrame({'A': [1, None, 3], 'B': [4, 5, None]})\n",
        "df_filled = df.fillna(0)  # Replaces missing with 0"
      ],
      "metadata": {
        "id": "sCNv_kKtQV-c"
      }
    },
    {
      "cell_type": "markdown",
      "source": [
        "14.  What are the benefits of using Plotly for data visualization?\n",
        "\n",
        "Plotly is an interactive graphing library that creates browser-based, interactive charts and dashboards.\n",
        "\n",
        "Benefits:\n",
        "\n",
        "Zoom, hover, click features\n",
        "\n",
        "Suitable for dashboards and reports\n",
        "\n",
        "Integration with Dash for web apps\n",
        "\n",
        "3D plotting and map visualizations\n",
        "\n",
        "Example:\n",
        "import plotly.express as px\n",
        "fig = px.bar(x=[\"A\", \"B\", \"C\"], y=[10, 20, 15])\n",
        "fig.show()"
      ],
      "metadata": {
        "id": "LvwU9zqaQepT"
      }
    },
    {
      "cell_type": "markdown",
      "source": [
        "15. How does NumPy handle multidimensional arrays ?\n",
        "\n",
        "NumPy uses ndarray objects to handle multi-dimensional arrays efficiently.\n",
        "\n",
        "Key Concepts:\n",
        "\n",
        "Each axis represents a dimension\n",
        "\n",
        "Shape: Tuple indicating the size in each dimension\n",
        "\n",
        "Access via slicing and indexing\n",
        "\n",
        "Example:\n",
        "import numpy as np\n",
        "arr = np.array([[1, 2], [3, 4]])\n",
        "print(arr.shape)  # Output: (2, 2)\n",
        "print(arr[0][1])  # Output: 2\n",
        "\n",
        "Operations:\n",
        "\n",
        "Broadcasting\n",
        "\n",
        "Axis-wise operations\n",
        "\n",
        "Reshaping and transposing"
      ],
      "metadata": {
        "id": "a-rdckCTQm5z"
      }
    },
    {
      "cell_type": "markdown",
      "source": [
        "16. What is the role of Bokeh in data visualization ?\n",
        "\n",
        "Bokeh is a Python interactive visualization library that targets modern web browsers for presentation.\n",
        "\n",
        "Key Features:\n",
        "\n",
        "Generates interactive plots, dashboards, and applications\n",
        "\n",
        "Web-ready outputs using HTML/JavaScript\n",
        "\n",
        "Handles large streaming data efficiently\n",
        "\n",
        "Comparison with other tools:\n",
        "\n",
        "More customizable than Seaborn/Matplotlib\n",
        "\n",
        "Similar to Plotly, but better for web-based dashboards\n",
        "\n",
        "Example:\n",
        "from bokeh.plotting import figure, show\n",
        "p = figure()\n",
        "p.line([1, 2, 3], [4, 6, 5])\n",
        "show(p)"
      ],
      "metadata": {
        "id": "uT7cyu4AQ7Do"
      }
    },
    {
      "cell_type": "markdown",
      "source": [
        "17. Explain the difference between apply() and map() in Pandas ?\n",
        "\n",
        "Both apply() and map() are used to apply functions to data, but they are used differently in Pandas.\n",
        "\n",
        " map() – For Series Only\n",
        "Used on a single Series (like one column).\n",
        "\n",
        "Applies a function, dictionary, or series element-wise.\n",
        "\n",
        "Ideal for value-wise transformation.\n",
        "\n",
        "Example:\n",
        "\n",
        "df['marks'].map(lambda x: x + 5)\n",
        "\n",
        "apply() – For Both Series & DataFrame\n",
        "\n",
        "Can be used on Series or entire DataFrames.\n",
        "\n",
        "Applies a function to each element, row, or column.\n",
        "\n",
        "More flexible than map().\n",
        "\n",
        "Example on a Series:\n",
        "\n",
        "df['marks'].apply(lambda x: x + 5)\n",
        "\n",
        "Example on a DataFrame (column-wise):\n",
        "\n",
        "df.apply(sum)   # Applies sum to each column"
      ],
      "metadata": {
        "id": "4Hz4MH8wRTBo"
      }
    },
    {
      "cell_type": "markdown",
      "source": [
        "18.  What are some advanced features of NumPy?\n",
        "\n",
        "Broadcasting and vectorization for fast computation\n",
        "\n",
        "Masked arrays: Handling missing or invalid entries\n",
        "\n",
        "Structured arrays: Like a table with different data types per column\n",
        "\n",
        "Linear algebra support: np.linalg.inv(), np.dot()\n",
        "\n",
        "Random sampling: np.random subpackage\n",
        "\n",
        "Fourier transforms: np.fft\n",
        "\n",
        "Memory efficiency: Uses less memory than Python lists\n",
        "\n",
        "Array views and strides: Optimized memory use and faster processing\n",
        "\n",
        "These features make NumPy the backbone of scientific computing in Python."
      ],
      "metadata": {
        "id": "uC2pdSBORUqx"
      }
    },
    {
      "cell_type": "markdown",
      "source": [
        "19. How does Pandas simplify time series analysis ?\n",
        "\n",
        "Pandas provides robust tools for time series data handling:\n",
        "\n",
        "Date Parsing: pd.to_datetime() to convert strings into datetime objects\n",
        "\n",
        "DatetimeIndex: Enables date-based indexing and slicing\n",
        "\n",
        "Resampling: Convert frequency with .resample('M'), .resample('W')\n",
        "\n",
        "Rolling Windows: Moving averages with .rolling(window).mean()\n",
        "\n",
        "Shift and Lag: .shift() to compare past values\n",
        "\n",
        "Timezone handling: tz_localize() and tz_convert()\n",
        "\n",
        "Example:\n",
        "df.set_index('Date', inplace=True)\n",
        "df['Sales'].resample('M').sum()"
      ],
      "metadata": {
        "id": "dGHwjZA8RxLZ"
      }
    },
    {
      "cell_type": "markdown",
      "source": [
        "20.  What is the role of a pivot table in Pandas?\n",
        "\n",
        "A pivot table is a data summarization tool used to group and aggregate data across multiple dimensions.\n",
        "\n",
        "Purpose:\n",
        "\n",
        "Aggregate large data by multiple keys\n",
        "\n",
        "Transform data layout for analysis\n",
        "\n",
        "Customize summary statistics\n",
        "\n",
        "Syntax:\n",
        "pd.pivot_table(df, values='Sales', index='Region', columns='Year', aggfunc='sum')"
      ],
      "metadata": {
        "id": "Mr146aocR4tU"
      }
    },
    {
      "cell_type": "markdown",
      "source": [
        "21.  Why is NumPy’s array slicing faster than Python’s list slicing?\n",
        "\n",
        "NumPy arrays are stored in contiguous memory blocks; Python lists are arrays of pointers.\n",
        "\n",
        "NumPy slicing uses compiled C code internally.\n",
        "\n",
        "NumPy avoids data type checks, reference counting, and dynamic typing.\n",
        "\n",
        "Array views enable slicing without copying data.\n",
        "\n",
        "As a result, NumPy slicing is faster, memory-efficient, and more suitable for large datasets"
      ],
      "metadata": {
        "id": "FGMDtd2cSBaC"
      }
    },
    {
      "cell_type": "markdown",
      "source": [
        "22. What are some common use cases for Seaborn?\n",
        "Seaborn is ideal for statistical and exploratory data visualizations.\n",
        "\n",
        "Common use cases:\n",
        "\n",
        "Understanding distributions: sns.histplot(), sns.kdeplot()\n",
        "\n",
        "Comparing categories: sns.boxplot(), sns.violinplot(), sns.barplot()\n",
        "\n",
        "Visualizing relationships: sns.scatterplot(), sns.regplot(), sns.lmplot()\n",
        "\n",
        "Correlation analysis: sns.heatmap(df.corr())\n",
        "\n",
        "Exploratory analysis: sns.pairplot() to quickly find patterns and relationships\n",
        "\n",
        "Time series plotting: sns.lineplot()\n",
        "\n",
        "Seaborn integrates tightly with Pandas DataFrames, making it simple to create publication-ready visualizations."
      ],
      "metadata": {
        "id": "qQWMfuanSERS"
      }
    },
    {
      "cell_type": "code",
      "source": [
        " #1. Create a 2D NumPy array and calculate the sum of each row\n",
        "\n",
        "import numpy as np\n",
        "\n",
        "arr = np.array([[1, 2, 3], [4, 5, 6], [7, 8, 9]])\n",
        "row_sums = np.sum(arr, axis=1)\n",
        "print(\"Row sums:\", row_sums)"
      ],
      "metadata": {
        "colab": {
          "base_uri": "https://localhost:8080/"
        },
        "id": "yxuuEsRVUGHN",
        "outputId": "825fcaf1-546e-4294-daf9-5ebfb590eaa3"
      },
      "execution_count": 1,
      "outputs": [
        {
          "output_type": "stream",
          "name": "stdout",
          "text": [
            "Row sums: [ 6 15 24]\n"
          ]
        }
      ]
    },
    {
      "cell_type": "code",
      "source": [
        "#2. Pandas script to find the mean of a specific column\n",
        "\n",
        "import pandas as pd\n",
        "\n",
        "data = {'Score': [80, 90, 70, 60]}\n",
        "df = pd.DataFrame(data)\n",
        "mean_score = df['Score'].mean()\n",
        "print(\"Mean Score:\", mean_score)"
      ],
      "metadata": {
        "colab": {
          "base_uri": "https://localhost:8080/"
        },
        "id": "cpx_Pq-xUTJG",
        "outputId": "a726c01d-843b-4a01-bd4d-d0cca3dbead9"
      },
      "execution_count": 2,
      "outputs": [
        {
          "output_type": "stream",
          "name": "stdout",
          "text": [
            "Mean Score: 75.0\n"
          ]
        }
      ]
    },
    {
      "cell_type": "code",
      "source": [
        "#3.  Create a scatter plot using MatplotlibA\n",
        "\n",
        "import matplotlib.pyplot as plt\n",
        "\n",
        "x = [1, 2, 3, 4, 5]\n",
        "y = [2, 4, 1, 3, 5]\n",
        "plt.scatter(x, y)\n",
        "plt.title(\"Scatter Plot\")\n",
        "plt.xlabel(\"X-axis\")\n",
        "plt.ylabel(\"Y-axis\")\n",
        "plt.show()\n"
      ],
      "metadata": {
        "colab": {
          "base_uri": "https://localhost:8080/",
          "height": 472
        },
        "id": "ddGCRKbmUYsy",
        "outputId": "5a628fd2-ca4b-463c-bd59-361e7894c6c3"
      },
      "execution_count": 3,
      "outputs": [
        {
          "output_type": "display_data",
          "data": {
            "text/plain": [
              "<Figure size 640x480 with 1 Axes>"
            ],
            "image/png": "[encoded data removed]"
          },
          "metadata": {}
        }
      ]
    },
    {
      "cell_type": "code",
      "source": [
        "#4  How do you calculate the correlation matrix using Seaborn and visualize it with a heatmap\n",
        "import seaborn as sns\n",
        "import pandas as pd\n",
        "import matplotlib.pyplot as plt\n",
        "\n",
        "df = pd.DataFrame({\n",
        "    'A': [1, 2, 3, 4],\n",
        "    'B': [4, 3, 2, 1],\n",
        "    'C': [5, 6, 7, 8]\n",
        "})\n",
        "corr = df.corr()\n",
        "sns.heatmap(corr, annot=True, cmap='coolwarm')\n",
        "plt.title(\"Correlation Matrix\")\n",
        "plt.show()"
      ],
      "metadata": {
        "colab": {
          "base_uri": "https://localhost:8080/",
          "height": 452
        },
        "id": "RfRjtaioUjZG",
        "outputId": "29dbf5fd-8da9-48f7-94c6-5c05ae734272"
      },
      "execution_count": 4,
      "outputs": [
        {
          "output_type": "display_data",
          "data": {
            "text/plain": [
              "<Figure size 640x480 with 2 Axes>"
            ],
            "image/png": "[encoded data removed]"
          },
          "metadata": {}
        }
      ]
    },
    {
      "cell_type": "code",
      "source": [
        "#5 Generate a bar plot using\n",
        "\n",
        "import plotly.express as px\n",
        "\n",
        "data = {'Fruits': ['Apple', 'Banana', 'Orange'], 'Count': [10, 15, 7]}\n",
        "fig = px.bar(data, x='Fruits', y='Count', title='Fruit Count')\n",
        "fig.show()\n",
        "\n"
      ],
      "metadata": {
        "colab": {
          "base_uri": "https://localhost:8080/",
          "height": 542
        },
        "id": "V0qTa8YKVCIC",
        "outputId": "615ffebe-232f-427d-cd61-fba89cbf2555"
      },
      "execution_count": 5,
      "outputs": [
        {
          "output_type": "display_data",
          "data": {
            "text/html": [
              "<html>\n",
              "<head><meta charset=\"utf-8\" /></head>\n",
              "<body>\n",
              "    <div>            <script src=\"https://cdnjs.cloudflare.com/ajax/libs/mathjax/2.7.5/MathJax.js?config=TeX-AMS-MML_SVG\"></script><script type=\"text/javascript\">if (window.MathJax && window.MathJax.Hub && window.MathJax.Hub.Config) {window.MathJax.Hub.Config({SVG: {font: \"STIX-Web\"}});}</script>                <script type=\"text/javascript\">window.PlotlyConfig = {MathJaxConfig: 'local'};</script>\n",
              "        <script charset=\"utf-8\" src=\"https://cdn.plot.ly/plotly-2.35.2.min.js\"></script>                <div id=\"f0b19a58-2f0a-4595-abfa-1a86b4bb55d3\" class=\"plotly-graph-div\" style=\"height:525px; width:100%;\"></div>            <script type=\"text/javascript\">                                    window.PLOTLYENV=window.PLOTLYENV || {};                                    if (document.getElementById(\"f0b19a58-2f0a-4595-abfa-1a86b4bb55d3\")) {                    Plotly.newPlot(                        \"f0b19a58-2f0a-4595-abfa-1a86b4bb55d3\",                        [{\"alignmentgroup\":\"True\",\"hovertemplate\":\"Fruits=%{x}\\u003cbr\\u003eCount=%{y}\\u003cextra\\u003e\\u003c\\u002fextra\\u003e\",\"legendgroup\":\"\",\"marker\":{\"color\":\"#636efa\",\"pattern\":{\"shape\":\"\"}},\"name\":\"\",\"offsetgroup\":\"\",\"orientation\":\"v\",\"showlegend\":false,\"textposition\":\"auto\",\"x\":[\"Apple\",\"Banana\",\"Orange\"],\"xaxis\":\"x\",\"y\":[10,15,7],\"yaxis\":\"y\",\"type\":\"bar\"}],                        {\"template\":{\"data\":{\"histogram2dcontour\":[{\"type\":\"histogram2dcontour\",\"colorbar\":{\"outlinewidth\":0,\"ticks\":\"\"},\"colorscale\":[[0.0,\"#0d0887\"],[0.1111111111111111,\"#46039f\"],[0.2222222222222222,\"#7201a8\"],[0.3333333333333333,\"#9c179e\"],[0.4444444444444444,\"#bd3786\"],[0.5555555555555556,\"#d8576b\"],[0.6666666666666666,\"#ed7953\"],[0.7777777777777778,\"#fb9f3a\"],[0.8888888888888888,\"#fdca26\"],[1.0,\"#f0f921\"]]}],\"choropleth\":[{\"type\":\"choropleth\",\"colorbar\":{\"outlinewidth\":0,\"ticks\":\"\"}}],\"histogram2d\":[{\"type\":\"histogram2d\",\"colorbar\":{\"outlinewidth\":0,\"ticks\":\"\"},\"colorscale\":[[0.0,\"#0d0887\"],[0.1111111111111111,\"#46039f\"],[0.2222222222222222,\"#7201a8\"],[0.3333333333333333,\"#9c179e\"],[0.4444444444444444,\"#bd3786\"],[0.5555555555555556,\"#d8576b\"],[0.6666666666666666,\"#ed7953\"],[0.7777777777777778,\"#fb9f3a\"],[0.8888888888888888,\"#fdca26\"],[1.0,\"#f0f921\"]]}],\"heatmap\":[{\"type\":\"heatmap\",\"colorbar\":{\"outlinewidth\":0,\"ticks\":\"\"},\"colorscale\":[[0.0,\"#0d0887\"],[0.1111111111111111,\"#46039f\"],[0.2222222222222222,\"#7201a8\"],[0.3333333333333333,\"#9c179e\"],[0.4444444444444444,\"#bd3786\"],[0.5555555555555556,\"#d8576b\"],[0.6666666666666666,\"#ed7953\"],[0.7777777777777778,\"#fb9f3a\"],[0.8888888888888888,\"#fdca26\"],[1.0,\"#f0f921\"]]}],\"heatmapgl\":[{\"type\":\"heatmapgl\",\"colorbar\":{\"outlinewidth\":0,\"ticks\":\"\"},\"colorscale\":[[0.0,\"#0d0887\"],[0.1111111111111111,\"#46039f\"],[0.2222222222222222,\"#7201a8\"],[0.3333333333333333,\"#9c179e\"],[0.4444444444444444,\"#bd3786\"],[0.5555555555555556,\"#d8576b\"],[0.6666666666666666,\"#ed7953\"],[0.7777777777777778,\"#fb9f3a\"],[0.8888888888888888,\"#fdca26\"],[1.0,\"#f0f921\"]]}],\"contourcarpet\":[{\"type\":\"contourcarpet\",\"colorbar\":{\"outlinewidth\":0,\"ticks\":\"\"}}],\"contour\":[{\"type\":\"contour\",\"colorbar\":{\"outlinewidth\":0,\"ticks\":\"\"},\"colorscale\":[[0.0,\"#0d0887\"],[0.1111111111111111,\"#46039f\"],[0.2222222222222222,\"#7201a8\"],[0.3333333333333333,\"#9c179e\"],[0.4444444444444444,\"#bd3786\"],[0.5555555555555556,\"#d8576b\"],[0.6666666666666666,\"#ed7953\"],[0.7777777777777778,\"#fb9f3a\"],[0.8888888888888888,\"#fdca26\"],[1.0,\"#f0f921\"]]}],\"surface\":[{\"type\":\"surface\",\"colorbar\":{\"outlinewidth\":0,\"ticks\":\"\"},\"colorscale\":[[0.0,\"#0d0887\"],[0.1111111111111111,\"#46039f\"],[0.2222222222222222,\"#7201a8\"],[0.3333333333333333,\"#9c179e\"],[0.4444444444444444,\"#bd3786\"],[0.5555555555555556,\"#d8576b\"],[0.6666666666666666,\"#ed7953\"],[0.7777777777777778,\"#fb9f3a\"],[0.8888888888888888,\"#fdca26\"],[1.0,\"#f0f921\"]]}],\"mesh3d\":[{\"type\":\"mesh3d\",\"colorbar\":{\"outlinewidth\":0,\"ticks\":\"\"}}],\"scatter\":[{\"fillpattern\":{\"fillmode\":\"overlay\",\"size\":10,\"solidity\":0.2},\"type\":\"scatter\"}],\"parcoords\":[{\"type\":\"parcoords\",\"line\":{\"colorbar\":{\"outlinewidth\":0,\"ticks\":\"\"}}}],\"scatterpolargl\":[{\"type\":\"scatterpolargl\",\"marker\":{\"colorbar\":{\"outlinewidth\":0,\"ticks\":\"\"}}}],\"bar\":[{\"error_x\":{\"color\":\"#2a3f5f\"},\"error_y\":{\"color\":\"#2a3f5f\"},\"marker\":{\"line\":{\"color\":\"#E5ECF6\",\"width\":0.5},\"pattern\":{\"fillmode\":\"overlay\",\"size\":10,\"solidity\":0.2}},\"type\":\"bar\"}],\"scattergeo\":[{\"type\":\"scattergeo\",\"marker\":{\"colorbar\":{\"outlinewidth\":0,\"ticks\":\"\"}}}],\"scatterpolar\":[{\"type\":\"scatterpolar\",\"marker\":{\"colorbar\":{\"outlinewidth\":0,\"ticks\":\"\"}}}],\"histogram\":[{\"marker\":{\"pattern\":{\"fillmode\":\"overlay\",\"size\":10,\"solidity\":0.2}},\"type\":\"histogram\"}],\"scattergl\":[{\"type\":\"scattergl\",\"marker\":{\"colorbar\":{\"outlinewidth\":0,\"ticks\":\"\"}}}],\"scatter3d\":[{\"type\":\"scatter3d\",\"line\":{\"colorbar\":{\"outlinewidth\":0,\"ticks\":\"\"}},\"marker\":{\"colorbar\":{\"outlinewidth\":0,\"ticks\":\"\"}}}],\"scattermapbox\":[{\"type\":\"scattermapbox\",\"marker\":{\"colorbar\":{\"outlinewidth\":0,\"ticks\":\"\"}}}],\"scatterternary\":[{\"type\":\"scatterternary\",\"marker\":{\"colorbar\":{\"outlinewidth\":0,\"ticks\":\"\"}}}],\"scattercarpet\":[{\"type\":\"scattercarpet\",\"marker\":{\"colorbar\":{\"outlinewidth\":0,\"ticks\":\"\"}}}],\"carpet\":[{\"aaxis\":{\"endlinecolor\":\"#2a3f5f\",\"gridcolor\":\"white\",\"linecolor\":\"white\",\"minorgridcolor\":\"white\",\"startlinecolor\":\"#2a3f5f\"},\"baxis\":{\"endlinecolor\":\"#2a3f5f\",\"gridcolor\":\"white\",\"linecolor\":\"white\",\"minorgridcolor\":\"white\",\"startlinecolor\":\"#2a3f5f\"},\"type\":\"carpet\"}],\"table\":[{\"cells\":{\"fill\":{\"color\":\"#EBF0F8\"},\"line\":{\"color\":\"white\"}},\"header\":{\"fill\":{\"color\":\"#C8D4E3\"},\"line\":{\"color\":\"white\"}},\"type\":\"table\"}],\"barpolar\":[{\"marker\":{\"line\":{\"color\":\"#E5ECF6\",\"width\":0.5},\"pattern\":{\"fillmode\":\"overlay\",\"size\":10,\"solidity\":0.2}},\"type\":\"barpolar\"}],\"pie\":[{\"automargin\":true,\"type\":\"pie\"}]},\"layout\":{\"autotypenumbers\":\"strict\",\"colorway\":[\"#636efa\",\"#EF553B\",\"#00cc96\",\"#ab63fa\",\"#FFA15A\",\"#19d3f3\",\"#FF6692\",\"#B6E880\",\"#FF97FF\",\"#FECB52\"],\"font\":{\"color\":\"#2a3f5f\"},\"hovermode\":\"closest\",\"hoverlabel\":{\"align\":\"left\"},\"paper_bgcolor\":\"white\",\"plot_bgcolor\":\"#E5ECF6\",\"polar\":{\"bgcolor\":\"#E5ECF6\",\"angularaxis\":{\"gridcolor\":\"white\",\"linecolor\":\"white\",\"ticks\":\"\"},\"radialaxis\":{\"gridcolor\":\"white\",\"linecolor\":\"white\",\"ticks\":\"\"}},\"ternary\":{\"bgcolor\":\"#E5ECF6\",\"aaxis\":{\"gridcolor\":\"white\",\"linecolor\":\"white\",\"ticks\":\"\"},\"baxis\":{\"gridcolor\":\"white\",\"linecolor\":\"white\",\"ticks\":\"\"},\"caxis\":{\"gridcolor\":\"white\",\"linecolor\":\"white\",\"ticks\":\"\"}},\"coloraxis\":{\"colorbar\":{\"outlinewidth\":0,\"ticks\":\"\"}},\"colorscale\":{\"sequential\":[[0.0,\"#0d0887\"],[0.1111111111111111,\"#46039f\"],[0.2222222222222222,\"#7201a8\"],[0.3333333333333333,\"#9c179e\"],[0.4444444444444444,\"#bd3786\"],[0.5555555555555556,\"#d8576b\"],[0.6666666666666666,\"#ed7953\"],[0.7777777777777778,\"#fb9f3a\"],[0.8888888888888888,\"#fdca26\"],[1.0,\"#f0f921\"]],\"sequentialminus\":[[0.0,\"#0d0887\"],[0.1111111111111111,\"#46039f\"],[0.2222222222222222,\"#7201a8\"],[0.3333333333333333,\"#9c179e\"],[0.4444444444444444,\"#bd3786\"],[0.5555555555555556,\"#d8576b\"],[0.6666666666666666,\"#ed7953\"],[0.7777777777777778,\"#fb9f3a\"],[0.8888888888888888,\"#fdca26\"],[1.0,\"#f0f921\"]],\"diverging\":[[0,\"#8e0152\"],[0.1,\"#c51b7d\"],[0.2,\"#de77ae\"],[0.3,\"#f1b6da\"],[0.4,\"#fde0ef\"],[0.5,\"#f7f7f7\"],[0.6,\"#e6f5d0\"],[0.7,\"#b8e186\"],[0.8,\"#7fbc41\"],[0.9,\"#4d9221\"],[1,\"#276419\"]]},\"xaxis\":{\"gridcolor\":\"white\",\"linecolor\":\"white\",\"ticks\":\"\",\"title\":{\"standoff\":15},\"zerolinecolor\":\"white\",\"automargin\":true,\"zerolinewidth\":2},\"yaxis\":{\"gridcolor\":\"white\",\"linecolor\":\"white\",\"ticks\":\"\",\"title\":{\"standoff\":15},\"zerolinecolor\":\"white\",\"automargin\":true,\"zerolinewidth\":2},\"scene\":{\"xaxis\":{\"backgroundcolor\":\"#E5ECF6\",\"gridcolor\":\"white\",\"linecolor\":\"white\",\"showbackground\":true,\"ticks\":\"\",\"zerolinecolor\":\"white\",\"gridwidth\":2},\"yaxis\":{\"backgroundcolor\":\"#E5ECF6\",\"gridcolor\":\"white\",\"linecolor\":\"white\",\"showbackground\":true,\"ticks\":\"\",\"zerolinecolor\":\"white\",\"gridwidth\":2},\"zaxis\":{\"backgroundcolor\":\"#E5ECF6\",\"gridcolor\":\"white\",\"linecolor\":\"white\",\"showbackground\":true,\"ticks\":\"\",\"zerolinecolor\":\"white\",\"gridwidth\":2}},\"shapedefaults\":{\"line\":{\"color\":\"#2a3f5f\"}},\"annotationdefaults\":{\"arrowcolor\":\"#2a3f5f\",\"arrowhead\":0,\"arrowwidth\":1},\"geo\":{\"bgcolor\":\"white\",\"landcolor\":\"#E5ECF6\",\"subunitcolor\":\"white\",\"showland\":true,\"showlakes\":true,\"lakecolor\":\"white\"},\"title\":{\"x\":0.05},\"mapbox\":{\"style\":\"light\"}}},\"xaxis\":{\"anchor\":\"y\",\"domain\":[0.0,1.0],\"title\":{\"text\":\"Fruits\"}},\"yaxis\":{\"anchor\":\"x\",\"domain\":[0.0,1.0],\"title\":{\"text\":\"Count\"}},\"legend\":{\"tracegroupgap\":0},\"title\":{\"text\":\"Fruit Count\"},\"barmode\":\"relative\"},                        {\"responsive\": true}                    ).then(function(){\n",
              "                            \n",
              "var gd = document.getElementById('f0b19a58-2f0a-4595-abfa-1a86b4bb55d3');\n",
              "var x = new MutationObserver(function (mutations, observer) {{\n",
              "        var display = window.getComputedStyle(gd).display;\n",
              "        if (!display || display === 'none') {{\n",
              "            console.log([gd, 'removed!']);\n",
              "            Plotly.purge(gd);\n",
              "            observer.disconnect();\n",
              "        }}\n",
              "}});\n",
              "\n",
              "// Listen for the removal of the full notebook cells\n",
              "var notebookContainer = gd.closest('#notebook-container');\n",
              "if (notebookContainer) {{\n",
              "    x.observe(notebookContainer, {childList: true});\n",
              "}}\n",
              "\n",
              "// Listen for the clearing of the current output cell\n",
              "var outputEl = gd.closest('.output');\n",
              "if (outputEl) {{\n",
              "    x.observe(outputEl, {childList: true});\n",
              "}}\n",
              "\n",
              "                        })                };                            </script>        </div>\n",
              "</body>\n",
              "</html>"
            ]
          },
          "metadata": {}
        }
      ]
    },
    {
      "cell_type": "code",
      "source": [
        "#6 6. Create a DataFrame and add a new column based on an existing column\n",
        "\n",
        "import pandas as pd\n",
        "df = pd.DataFrame({'Marks': [50, 70, 90]})\n",
        "df['Grade'] = df['Marks'].apply(lambda x: 'Pass' if x >= 60 else 'Fail')\n",
        "print(df)\n"
      ],
      "metadata": {
        "colab": {
          "base_uri": "https://localhost:8080/"
        },
        "id": "NLTWutp1VTcc",
        "outputId": "7e4d702d-1963-4854-93e1-115d5c3462df"
      },
      "execution_count": 6,
      "outputs": [
        {
          "output_type": "stream",
          "name": "stdout",
          "text": [
            "   Marks Grade\n",
            "0     50  Fail\n",
            "1     70  Pass\n",
            "2     90  Pass\n"
          ]
        }
      ]
    },
    {
      "cell_type": "code",
      "source": [
        "#7 Write a program to perform element-wise multiplication of two NumPy arrays\n",
        "\n",
        "import numpy as np\n",
        "a = np.array([1, 2, 3])\n",
        "b = np.array([4, 5, 6])\n",
        "result = np.multiply(a, b)\n",
        "print(\"Element-wise multiplication:\", result)\n"
      ],
      "metadata": {
        "colab": {
          "base_uri": "https://localhost:8080/"
        },
        "id": "6IoRxu9LVanT",
        "outputId": "9ff8180d-1a03-4ca1-e454-c5d45430dd72"
      },
      "execution_count": 7,
      "outputs": [
        {
          "output_type": "stream",
          "name": "stdout",
          "text": [
            "Element-wise multiplication: [ 4 10 18]\n"
          ]
        }
      ]
    },
    {
      "cell_type": "code",
      "source": [
        "#8  Create a line plot with multiple lines using MatplotlibA\n",
        "\n",
        "import matplotlib.pyplot as plt\n",
        "x = [1, 2, 3, 4]\n",
        "y1 = [10, 20, 25, 30]\n",
        "y2 = [5, 15, 20, 25]\n",
        "plt.plot(x, y1, label='Line 1')\n",
        "plt.plot(x, y2, label='Line 2')\n",
        "plt.title(\"Multiple Line Plot\")\n",
        "plt.xlabel(\"X-axis\")\n",
        "plt.ylabel(\"Y-axis\")\n",
        "plt.legend()\n",
        "plt.show()\n"
      ],
      "metadata": {
        "colab": {
          "base_uri": "https://localhost:8080/",
          "height": 472
        },
        "id": "1MVr2xYrVe0R",
        "outputId": "17053dc4-ec5e-499c-d018-70ddf3f0c8ac"
      },
      "execution_count": 8,
      "outputs": [
        {
          "output_type": "display_data",
          "data": {
            "text/plain": [
              "<Figure size 640x480 with 1 Axes>"
            ],
            "image/png": "[encoded data removed]"
          },
          "metadata": {}
        }
      ]
    },
    {
      "cell_type": "code",
      "source": [
        "#9 Generate a Pandas DataFrame and filter rows where a column value is greater than a threshold\n",
        "\n",
        "import pandas as pd\n",
        "df = pd.DataFrame({'Score': [45, 67, 89, 30]})\n",
        "filtered_df = df[df['Score'] > 50]\n",
        "print(filtered_df)\n"
      ],
      "metadata": {
        "colab": {
          "base_uri": "https://localhost:8080/"
        },
        "id": "LvPZtRcrVk0D",
        "outputId": "b354a90d-3168-4e1b-bce2-6f6c0349152d"
      },
      "execution_count": 9,
      "outputs": [
        {
          "output_type": "stream",
          "name": "stdout",
          "text": [
            "   Score\n",
            "1     67\n",
            "2     89\n"
          ]
        }
      ]
    },
    {
      "cell_type": "code",
      "source": [
        "#10 Create a histogram using Seaborn to visualize a distributionA\n",
        "\n",
        "import seaborn as sns\n",
        "import matplotlib.pyplot as plt\n",
        "data = [1, 2, 2, 3, 3, 3, 4, 4, 5]\n",
        "sns.histplot(data, bins=5, kde=True)\n",
        "plt.title(\"Distribution Histogram\")\n",
        "plt.show()\n"
      ],
      "metadata": {
        "colab": {
          "base_uri": "https://localhost:8080/",
          "height": 452
        },
        "id": "jnuLU7oMVsrs",
        "outputId": "cd3bdade-0873-4d1f-a2de-bcc58a41984d"
      },
      "execution_count": 10,
      "outputs": [
        {
          "output_type": "display_data",
          "data": {
            "text/plain": [
              "<Figure size 640x480 with 1 Axes>"
            ],
            "image/png": "[encoded data removed]"
          },
          "metadata": {}
        }
      ]
    },
    {
      "cell_type": "code",
      "source": [
        "#11 Perform matrix multiplication using NumPyA\n",
        "\n",
        "import numpy as np\n",
        "a = np.array([[1, 2], [3, 4]])\n",
        "b = np.array([[5, 6], [7, 8]])\n",
        "result = np.dot(a, b)\n",
        "print(\"Matrix multiplication result:\\n\", result)\n"
      ],
      "metadata": {
        "colab": {
          "base_uri": "https://localhost:8080/"
        },
        "id": "0TsvQQxnVxIz",
        "outputId": "3b86c304-3114-43da-d23e-1e6376273814"
      },
      "execution_count": 11,
      "outputs": [
        {
          "output_type": "stream",
          "name": "stdout",
          "text": [
            "Matrix multiplication result:\n",
            " [[19 22]\n",
            " [43 50]]\n"
          ]
        }
      ]
    }
  ]
}